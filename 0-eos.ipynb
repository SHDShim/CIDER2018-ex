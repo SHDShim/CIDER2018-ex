{
 "cells": [
  {
   "cell_type": "code",
   "execution_count": null,
   "metadata": {
    "collapsed": true
   },
   "outputs": [],
   "source": [
    "#%matplotlib ipympl\n",
    "%matplotlib inline"
   ]
  },
  {
   "cell_type": "markdown",
   "metadata": {},
   "source": [
    "For high dpi displays."
   ]
  },
  {
   "cell_type": "code",
   "execution_count": null,
   "metadata": {
    "collapsed": true
   },
   "outputs": [],
   "source": [
    "%config InlineBackend.figure_format = 'retina'"
   ]
  },
  {
   "cell_type": "markdown",
   "metadata": {},
   "source": [
    "# 0. Note"
   ]
  },
  {
   "cell_type": "markdown",
   "metadata": {},
   "source": [
    "This notebook demonstrates how different physical parameters change the equation of state."
   ]
  },
  {
   "cell_type": "markdown",
   "metadata": {},
   "source": [
    "# 1. Setup"
   ]
  },
  {
   "cell_type": "code",
   "execution_count": null,
   "metadata": {
    "collapsed": true
   },
   "outputs": [],
   "source": [
    "import matplotlib.pyplot as plt\n",
    "import numpy as np\n",
    "from uncertainties import unumpy as unp\n",
    "import pytheos as eos\n",
    "from uncertainties import ufloat"
   ]
  },
  {
   "cell_type": "markdown",
   "metadata": {},
   "source": [
    "In the Mie-Gruneisen approach, we divide total pressure, $P(V,T)$, into static pressure, $P(V,T_0)$, which is a reference isotherm (normally $T_0 = 300$ K), and thermal pressure, $\\Delta P_\\mathrm{th}(V,T)$, which is a pressure difference between 300-K and high-temperature isotherms.\n",
    "\n",
    "\\begin{equation}\n",
    "P(V,T) = P(V,T_0) + \\Delta P_\\mathrm{th}(V,T).\\label{eq:eos-totalP}\n",
    "\\end{equation}"
   ]
  },
  {
   "cell_type": "markdown",
   "metadata": {},
   "source": [
    "# 2. Static pressure"
   ]
  },
  {
   "cell_type": "markdown",
   "metadata": {},
   "source": [
    "We will use the Birch-Murnathan equation for the static part.\n",
    "\n",
    "\\begin{equation}\n",
    "P = \\frac{3K_0}{2} \\left[ \\left(\\frac{V_0}{V}\\right)^{7/3} -\n",
    "\\left(\\frac{V_0}{V}\\right)^{5/3} \\right]\\left\\{\n",
    "1-\\xi\\left[\\left(\\frac{V_0}{V}\\right)^{2/3} -1\\right] \\right\\},\n",
    "\\end{equation}\n",
    "where $K_0$ is the bulk modulus (in GPa), $K'_0 = (dK/dP)$, and $\\xi = \\frac{3}{4}(4-K_0')$.\n"
   ]
  },
  {
   "cell_type": "markdown",
   "metadata": {},
   "source": [
    "Generate volume strain: $\\eta = V/V_0$."
   ]
  },
  {
   "cell_type": "code",
   "execution_count": null,
   "metadata": {
    "collapsed": false
   },
   "outputs": [],
   "source": [
    "eta = np.linspace(1., 0.75, 21)\n",
    "print(eta)"
   ]
  },
  {
   "cell_type": "markdown",
   "metadata": {},
   "source": [
    "Suppose you have a material with the following properties measured at 300 K."
   ]
  },
  {
   "cell_type": "code",
   "execution_count": null,
   "metadata": {},
   "outputs": [],
   "source": [
    "v0 = 163. # A^3\n",
    "k0 = ufloat(260., 3.) # GPa\n",
    "k0p = ufloat(4., 0.2)  "
   ]
  },
  {
   "cell_type": "code",
   "execution_count": null,
   "metadata": {},
   "outputs": [],
   "source": [
    "v = unp.uarray(eta * v0, 0.05)"
   ]
  },
  {
   "cell_type": "markdown",
   "metadata": {},
   "source": [
    "Then you can calculate pressures for the volumes at 300 K: a 300-K isotherm."
   ]
  },
  {
   "cell_type": "code",
   "execution_count": null,
   "metadata": {},
   "outputs": [],
   "source": [
    "p_st = eos.bm3_p(v, v0, k0, k0p)\n",
    "print(p_st)"
   ]
  },
  {
   "cell_type": "code",
   "execution_count": null,
   "metadata": {},
   "outputs": [],
   "source": [
    "plt.errorbar(unp.nominal_values(p_st), unp.nominal_values(v), \\\n",
    "            xerr=unp.std_devs(p_st), yerr=unp.std_devs(v)) \n",
    "plt.xlabel('Pressure')\n",
    "plt.ylabel('Volume')"
   ]
  },
  {
   "cell_type": "markdown",
   "metadata": {},
   "source": [
    "## Try these...\n",
    "\n",
    "- Increase bulk modulus, $K_0$, to 300 GPa.\n",
    "\n",
    "- Increase pressure derivative of bulk modulus, $K'_0$, to 3 and 5.\n",
    "\n",
    "What did you find?\n",
    "\n",
    "Can you convert this into a density profile along an isotherm?"
   ]
  },
  {
   "cell_type": "markdown",
   "metadata": {},
   "source": [
    "# 3. Thermal pressure"
   ]
  },
  {
   "cell_type": "markdown",
   "metadata": {},
   "source": [
    "Now let's calculate thermal pressure.  We will use the Debye approach.\n",
    "\n",
    "\\begin{equation}\n",
    "\\Delta P_\\mathrm{th}(V,T) = \\frac{\\gamma(V)}{V}\\Delta E_\\mathrm{th}[\\theta_D(V),T],\\label{eq:eos-MGD}\n",
    "\\end{equation}\n",
    "where $\\gamma$ is the Gruneisen parameter ($= V (\\partial P/\\partial E)_V$), and $T_0=300$ K in most experiments.  The internal energy change can be calculated from the Debye model:\n",
    "\n",
    "\\begin{equation}\n",
    "E_\\mathrm{th} = \\frac{9nRT}{x^3}\\int^x _0 \\frac{\\xi^3}{e^\\xi -1} d\\xi,\n",
    "\\end{equation}\n",
    "where $R$ is the gas constant, $x = \\dfrac{\\theta_D}{T}$, and $n$ is the number of atoms per formula unit.\n",
    "\n",
    "Also,\n",
    "\n",
    "\\begin{equation}\n",
    "\\gamma = \\gamma_0 \\left( \\dfrac{V}{V_0} \\right) ^q\n",
    "\\end{equation}\n",
    "\n"
   ]
  },
  {
   "cell_type": "markdown",
   "metadata": {},
   "source": [
    "We need some parameters for the Debye thermal pressure equation."
   ]
  },
  {
   "cell_type": "code",
   "execution_count": null,
   "metadata": {},
   "outputs": [],
   "source": [
    "temp = 2000.\n",
    "gamma0 = ufloat(1.5, 0.3)\n",
    "q = ufloat(1., 0.5)\n",
    "theta0 = ufloat(1000., 50.)"
   ]
  },
  {
   "cell_type": "code",
   "execution_count": null,
   "metadata": {},
   "outputs": [],
   "source": [
    "n = 5.\n",
    "z = 4."
   ]
  },
  {
   "cell_type": "code",
   "execution_count": null,
   "metadata": {},
   "outputs": [],
   "source": [
    "p_th = eos.constq_pth(v, temp, v0, gamma0, q, theta0, n, z)"
   ]
  },
  {
   "cell_type": "code",
   "execution_count": null,
   "metadata": {},
   "outputs": [],
   "source": [
    "p_ht = p_st + p_th\n",
    "print(p_ht)"
   ]
  },
  {
   "cell_type": "markdown",
   "metadata": {},
   "source": [
    "Let's plot 300-K and 3000-K isotherms together."
   ]
  },
  {
   "cell_type": "code",
   "execution_count": null,
   "metadata": {},
   "outputs": [],
   "source": [
    "plt.errorbar(unp.nominal_values(p_st), unp.nominal_values(v), xerr=unp.std_devs(p_st))\n",
    "plt.errorbar(unp.nominal_values(p_ht), unp.nominal_values(v), xerr=unp.std_devs(p_ht))\n",
    "plt.xlabel('Pressure')\n",
    "plt.ylabel('Volume')"
   ]
  },
  {
   "cell_type": "markdown",
   "metadata": {},
   "source": [
    "## Try these...\n",
    "\n",
    "- Increase Gruneisen parameter, $\\gamma_0$, to 3.\n",
    "\n",
    "- Increase logarithmic volume dependence of $\\gamma$, $q$, to 0.1 and 2.\n",
    "\n",
    "What did you find?\n",
    "\n",
    "Can you convert this into a density profile along an isotherm?"
   ]
  },
  {
   "cell_type": "markdown",
   "metadata": {},
   "source": [
    "# 4. Volume expansion"
   ]
  },
  {
   "cell_type": "code",
   "execution_count": null,
   "metadata": {},
   "outputs": [],
   "source": [
    "import pytheos.scales.objs\n",
    "from collections import OrderedDict"
   ]
  },
  {
   "cell_type": "code",
   "execution_count": null,
   "metadata": {},
   "outputs": [],
   "source": [
    "params_st = OrderedDict([('v0', ufloat(v0, 0.01)),\n",
    "                         ('k0', k0),\n",
    "                         ('k0p', k0p)])\n",
    "params_th = OrderedDict([('v0', ufloat(v0, 0.01)),\n",
    "                         ('gamma0', gamma0),\n",
    "                         ('q', q),\n",
    "                         ('theta0', theta0)])\n",
    "brd = pytheos.scales.objs.MGEOS(n, z, params_st=params_st, params_th=params_th,\n",
    "               eqn_st='bm3', eqn_th='constq')"
   ]
  },
  {
   "cell_type": "code",
   "execution_count": null,
   "metadata": {},
   "outputs": [],
   "source": [
    "p_lm = np.linspace(25., 125., 101)"
   ]
  },
  {
   "cell_type": "code",
   "execution_count": null,
   "metadata": {},
   "outputs": [],
   "source": [
    "v_r = brd.cal_v(p_lm, np.ones_like(p_lm)*1500.)\n",
    "v_ht = brd.cal_v(p_lm, np.ones_like(p_lm)*2000.)"
   ]
  },
  {
   "cell_type": "code",
   "execution_count": null,
   "metadata": {},
   "outputs": [],
   "source": [
    "plt.plot(p_lm, (v_ht - v_r) / v_r * 100.)\n",
    "\n",
    "plt.ylabel('$\\Delta V / V$ (%)')\n",
    "plt.xlabel('Pressure (GPa)')"
   ]
  }
 ],
 "metadata": {
  "anaconda-cloud": {},
  "kernelspec": {
   "display_name": "Python [default]",
   "language": "python",
   "name": "python3"
  },
  "language_info": {
   "codemirror_mode": {
    "name": "ipython",
    "version": 3
   },
   "file_extension": ".py",
   "mimetype": "text/x-python",
   "name": "python",
   "nbconvert_exporter": "python",
   "pygments_lexer": "ipython3",
   "version": "3.6.5"
  },
  "latex_envs": {
   "LaTeX_envs_menu_present": true,
   "autocomplete": true,
   "bibliofile": "biblio.bib",
   "cite_by": "apalike",
   "current_citInitial": 1,
   "eqLabelWithNumbers": true,
   "eqNumInitial": 0,
   "hotkeys": {
    "equation": "Ctrl-E",
    "itemize": "Ctrl-I"
   },
   "labels_anchors": false,
   "latex_user_defs": false,
   "report_style_numbering": false,
   "user_envs_cfg": false
  }
 },
 "nbformat": 4,
 "nbformat_minor": 2
}
