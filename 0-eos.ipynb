{
 "cells": [
  {
   "cell_type": "code",
   "execution_count": 20,
   "metadata": {
    "collapsed": true
   },
   "outputs": [],
   "source": [
    "%matplotlib ipympl\n",
    "#%matplotlib inline"
   ]
  },
  {
   "cell_type": "markdown",
   "metadata": {},
   "source": [
    "For high dpi displays."
   ]
  },
  {
   "cell_type": "code",
   "execution_count": 21,
   "metadata": {
    "collapsed": true
   },
   "outputs": [],
   "source": [
    "%config InlineBackend.figure_format = 'retina'"
   ]
  },
  {
   "cell_type": "markdown",
   "metadata": {},
   "source": [
    "# 0. Note"
   ]
  },
  {
   "cell_type": "markdown",
   "metadata": {},
   "source": [
    "This notebook demonstrates how different physical parameters change the equation of state."
   ]
  },
  {
   "cell_type": "markdown",
   "metadata": {},
   "source": [
    "# 1. Setup"
   ]
  },
  {
   "cell_type": "code",
   "execution_count": 22,
   "metadata": {
    "collapsed": true
   },
   "outputs": [],
   "source": [
    "import matplotlib.pyplot as plt\n",
    "import numpy as np\n",
    "from uncertainties import unumpy as unp\n",
    "import pytheos as eos\n",
    "from uncertainties import ufloat"
   ]
  },
  {
   "cell_type": "markdown",
   "metadata": {},
   "source": [
    "In the Mie-Gruneisen approach, we divide total pressure, $P(V,T)$, into static pressure, $P(V,T_0)$, which is a reference isotherm (normally $T_0 = 300$ K), and thermal pressure, $\\Delta P_\\mathrm{th}(V,T)$, which is a pressure difference between 300-K and high-temperature isotherms.\n",
    "\n",
    "\\begin{equation}\n",
    "P(V,T) = P(V,T_0) + \\Delta P_\\mathrm{th}(V,T).\\label{eq:eos-totalP}\n",
    "\\end{equation}"
   ]
  },
  {
   "cell_type": "markdown",
   "metadata": {},
   "source": [
    "# 2. Static pressure"
   ]
  },
  {
   "cell_type": "markdown",
   "metadata": {},
   "source": [
    "We will use the Birch-Murnathan equation for the static part.\n",
    "\n",
    "\\begin{equation}\n",
    "P = \\frac{3K_0}{2} \\left[ \\left(\\frac{V_0}{V}\\right)^{7/3} -\n",
    "\\left(\\frac{V_0}{V}\\right)^{5/3} \\right]\\left\\{\n",
    "1-\\xi\\left[\\left(\\frac{V_0}{V}\\right)^{2/3} -1\\right] \\right\\},\n",
    "\\end{equation}\n",
    "where $K_0$ is the bulk modulus (in GPa), $K'_0 = (dK/dP)$, and $\\xi = \\frac{3}{4}(4-K_0')$.\n"
   ]
  },
  {
   "cell_type": "markdown",
   "metadata": {},
   "source": [
    "Generate volume strain: $V/V_0$."
   ]
  },
  {
   "cell_type": "code",
   "execution_count": 23,
   "metadata": {
    "collapsed": false
   },
   "outputs": [
    {
     "name": "stdout",
     "output_type": "stream",
     "text": [
      "[1.     0.9875 0.975  0.9625 0.95   0.9375 0.925  0.9125 0.9    0.8875\n",
      " 0.875  0.8625 0.85   0.8375 0.825  0.8125 0.8    0.7875 0.775  0.7625\n",
      " 0.75  ]\n"
     ]
    }
   ],
   "source": [
    "eta = np.linspace(1., 0.75, 21)\n",
    "print(eta)"
   ]
  },
  {
   "cell_type": "markdown",
   "metadata": {},
   "source": [
    "Suppose you have a material with the following properties measured at 300 K."
   ]
  },
  {
   "cell_type": "code",
   "execution_count": 24,
   "metadata": {},
   "outputs": [],
   "source": [
    "v0 = 163. # A^3\n",
    "k0 = ufloat(260., 3.) # GPa\n",
    "k0p = ufloat(4., 0.2)  "
   ]
  },
  {
   "cell_type": "code",
   "execution_count": 25,
   "metadata": {},
   "outputs": [],
   "source": [
    "v = unp.uarray(eta * v0, 0.05)"
   ]
  },
  {
   "cell_type": "markdown",
   "metadata": {},
   "source": [
    "Then you can calculate pressures for the volumes at 300 K: a 300-K isotherm."
   ]
  },
  {
   "cell_type": "code",
   "execution_count": 26,
   "metadata": {},
   "outputs": [
    {
     "name": "stdout",
     "output_type": "stream",
     "text": [
      "[0.0+/-0.07975460122699388 3.353814280180503+/-0.09340510990896281\n",
      " 6.924610875374034+/-0.12194338729592742\n",
      " 10.727242151995076+/-0.16222403233727498\n",
      " 14.777735537752497+/-0.21340786649401286\n",
      " 19.093401407355305+/-0.2762953014513782\n",
      " 23.69295235774493+/-0.3525063404100263\n",
      " 28.596635240437596+/-0.4440895414919564\n",
      " 33.82637750346423+/-0.5533700034339936\n",
      " 39.40594960818801+/-0.6829058519759348\n",
      " 45.361145531635096+/-0.8354943541892824\n",
      " 51.719983648420246+/-1.0142018197089469\n",
      " 58.51293061441608+/-1.2224059635435147\n",
      " 65.77315125481373+/-1.463846093588458\n",
      " 73.53678790143398+/-1.7426796902726758\n",
      " 81.84327313916256+/-2.063545519649513\n",
      " 90.73568052253206+/-2.431634226752447\n",
      " 100.26111852669689+/-2.8527678157175513\n",
      " 110.47117382163177+/-3.333489748417916\n",
      " 121.4224109275685+/-3.8811676912523003\n",
      " 133.17693645161637+/-4.504111266618983]\n"
     ]
    }
   ],
   "source": [
    "p_st = eos.bm3_p(v, v0, k0, k0p)\n",
    "print(p_st)"
   ]
  },
  {
   "cell_type": "code",
   "execution_count": 27,
   "metadata": {},
   "outputs": [
    {
     "data": {
      "application/vnd.jupyter.widget-view+json": {
       "model_id": "5fff14c96c144e7b92237d2ae78dabae",
       "version_major": 2,
       "version_minor": 0
      },
      "text/plain": [
       "FigureCanvasNbAgg()"
      ]
     },
     "metadata": {},
     "output_type": "display_data"
    },
    {
     "data": {
      "text/plain": [
       "Text(0,0.5,'Volume')"
      ]
     },
     "execution_count": 27,
     "metadata": {},
     "output_type": "execute_result"
    }
   ],
   "source": [
    "plt.errorbar(unp.nominal_values(p_st), unp.nominal_values(v), \\\n",
    "            xerr=unp.std_devs(p_st), yerr=unp.std_devs(v)) #, xerr=unp.std_devs(p_st))\n",
    "plt.xlabel('Pressure')\n",
    "plt.ylabel('Volume')"
   ]
  },
  {
   "cell_type": "markdown",
   "metadata": {},
   "source": [
    "## Try these...\n",
    "\n",
    "- Increase bulk modulus, $K_0$, to 300 GPa.\n",
    "\n",
    "- Increase pressure derivative of bulk modulus, $K'_0$, to 3 and 5.\n",
    "\n",
    "What did you find?\n",
    "\n",
    "Can you convert this into a density profile along an isotherm?"
   ]
  },
  {
   "cell_type": "markdown",
   "metadata": {},
   "source": [
    "# 3. Thermal pressure"
   ]
  },
  {
   "cell_type": "markdown",
   "metadata": {},
   "source": [
    "Now let's calculate thermal pressure.  We will use the Debye approach.\n",
    "\n",
    "\\begin{equation}\n",
    "\\Delta P_\\mathrm{th}(V,T) = \\frac{\\gamma(V)}{V}\\Delta E_\\mathrm{th}[\\theta_D(V),T],\\label{eq:eos-MGD}\n",
    "\\end{equation}\n",
    "where $\\gamma$ is the Gruneisen parameter ($= V (\\partial P/\\partial E)_V$), and $T_0=300$ K in most experiments.  The internal energy change can be calculated from the Debye model:\n",
    "\n",
    "\\begin{equation}\n",
    "E_\\mathrm{th} = \\frac{9nRT}{x^3}\\int^x _0 \\frac{\\xi^3}{e^\\xi -1} d\\xi,\n",
    "\\end{equation}\n",
    "where $R$ is the gas constant, $x = \\dfrac{\\theta_D}{T}$, and $n$ is the number of atoms per formula unit.\n",
    "\n",
    "Also,\n",
    "\n",
    "\\begin{equation}\n",
    "\\gamma = \\gamma_0 \\left( \\dfrac{V}{V_0} \\right) ^q\n",
    "\\end{equation}\n",
    "\n"
   ]
  },
  {
   "cell_type": "markdown",
   "metadata": {},
   "source": [
    "We need some parameters for the Debye thermal pressure equation."
   ]
  },
  {
   "cell_type": "code",
   "execution_count": 28,
   "metadata": {},
   "outputs": [],
   "source": [
    "temp = 2000.\n",
    "gamma0 = ufloat(1.5, 0.3)\n",
    "q = ufloat(1., 0.5)\n",
    "theta0 = ufloat(1000., 50.)"
   ]
  },
  {
   "cell_type": "code",
   "execution_count": 29,
   "metadata": {},
   "outputs": [],
   "source": [
    "n = 5.\n",
    "z = 4."
   ]
  },
  {
   "cell_type": "code",
   "execution_count": 30,
   "metadata": {},
   "outputs": [],
   "source": [
    "p_th = eos.constq_pth(v, temp, v0, gamma0, q, theta0, n, z)"
   ]
  },
  {
   "cell_type": "code",
   "execution_count": 31,
   "metadata": {},
   "outputs": [
    {
     "name": "stdout",
     "output_type": "stream",
     "text": [
      "[12.018782150648697+/-2.4064669154975995\n",
      " 15.341232585875414+/-2.3956040507971004\n",
      " 18.879762054847024+/-2.387408699537276\n",
      " 22.649205498278228+/-2.3822528435555035\n",
      " 26.66557306440265+/-2.380700743759324\n",
      " 30.946158023609556+/-2.383576342095162\n",
      " 35.50965607313762+/-2.3920446642608924\n",
      " 40.37629739931588+/-2.407706376702418\n",
      " 45.56799304974008+/-2.4327017308806176\n",
      " 51.10849738055938+/-2.469815544534059\n",
      " 57.023588589399225+/-2.522569265645685\n",
      " 63.34126962788805+/-2.5952809047949947\n",
      " 70.09199211581935+/-2.6930720116057394\n",
      " 77.30890625947735+/-2.8218074097037507\n",
      " 85.02814021886469+/-2.987970085762949\n",
      " 93.28911288358483+/-3.1984978721774473\n",
      " 102.13488461828229+/-3.460628760473617\n",
      " 111.61255124176922+/-3.7818064334551034\n",
      " 121.7736873285561+/-4.1696812047459835\n",
      " 132.67484589069147+/-4.632212942996751\n",
      " 144.37812263975508+/-5.1778574217801765]\n"
     ]
    }
   ],
   "source": [
    "p_ht = p_st + p_th\n",
    "print(p_ht)"
   ]
  },
  {
   "cell_type": "markdown",
   "metadata": {},
   "source": [
    "Let's plot 300-K and 3000-K isotherms together."
   ]
  },
  {
   "cell_type": "code",
   "execution_count": 32,
   "metadata": {},
   "outputs": [
    {
     "data": {
      "text/plain": [
       "Text(92.7917,0.5,'Volume')"
      ]
     },
     "execution_count": 32,
     "metadata": {},
     "output_type": "execute_result"
    }
   ],
   "source": [
    "plt.errorbar(unp.nominal_values(p_st), unp.nominal_values(v), xerr=unp.std_devs(p_st))\n",
    "plt.errorbar(unp.nominal_values(p_ht), unp.nominal_values(v), xerr=unp.std_devs(p_ht))\n",
    "plt.xlabel('Pressure')\n",
    "plt.ylabel('Volume')"
   ]
  },
  {
   "cell_type": "markdown",
   "metadata": {},
   "source": [
    "## Try these...\n",
    "\n",
    "- Increase Gruneisen parameter, $\\gamma_0$, to 3.\n",
    "\n",
    "- Increase logarithmic volume dependence of $\\gamma$, $q$, to 0.1 and 2.\n",
    "\n",
    "What did you find?\n",
    "\n",
    "Can you convert this into a density profile along an isotherm?"
   ]
  },
  {
   "cell_type": "markdown",
   "metadata": {},
   "source": [
    "# 4. Volume expansion"
   ]
  },
  {
   "cell_type": "code",
   "execution_count": 14,
   "metadata": {},
   "outputs": [],
   "source": [
    "import pytheos.scales.objs\n",
    "from collections import OrderedDict"
   ]
  },
  {
   "cell_type": "code",
   "execution_count": 15,
   "metadata": {},
   "outputs": [],
   "source": [
    "params_st = OrderedDict([('v0', ufloat(v0, 0.01)),\n",
    "                         ('k0', k0),\n",
    "                         ('k0p', k0p)])\n",
    "params_th = OrderedDict([('v0', ufloat(v0, 0.01)),\n",
    "                         ('gamma0', gamma0),\n",
    "                         ('q', q),\n",
    "                         ('theta0', theta0)])\n",
    "brd = pytheos.scales.objs.MGEOS(n, z, params_st=params_st, params_th=params_th,\n",
    "               eqn_st='bm3', eqn_th='constq')"
   ]
  },
  {
   "cell_type": "code",
   "execution_count": 16,
   "metadata": {},
   "outputs": [],
   "source": [
    "p_lm = np.linspace(25., 125., 101)"
   ]
  },
  {
   "cell_type": "code",
   "execution_count": 17,
   "metadata": {},
   "outputs": [],
   "source": [
    "v_r = brd.cal_v(p_lm, np.ones_like(p_lm)*1500.)\n",
    "v_ht = brd.cal_v(p_lm, np.ones_like(p_lm)*2000.)"
   ]
  },
  {
   "cell_type": "code",
   "execution_count": 18,
   "metadata": {},
   "outputs": [
    {
     "data": {
      "text/plain": [
       "Text(0.5,0,'Pressure (GPa)')"
      ]
     },
     "execution_count": 18,
     "metadata": {},
     "output_type": "execute_result"
    }
   ],
   "source": [
    "plt.plot(p_lm, (v_ht - v_r) / v_r * 100.)\n",
    "plt.ylabel('$\\Delta V / V$ (%)')\n",
    "plt.xlabel('Pressure (GPa)')"
   ]
  },
  {
   "cell_type": "code",
   "execution_count": null,
   "metadata": {},
   "outputs": [],
   "source": []
  }
 ],
 "metadata": {
  "anaconda-cloud": {},
  "kernelspec": {
   "display_name": "Python [default]",
   "language": "python",
   "name": "python3"
  },
  "language_info": {
   "codemirror_mode": {
    "name": "ipython",
    "version": 3
   },
   "file_extension": ".py",
   "mimetype": "text/x-python",
   "name": "python",
   "nbconvert_exporter": "python",
   "pygments_lexer": "ipython3",
   "version": "3.6.5"
  },
  "latex_envs": {
   "LaTeX_envs_menu_present": true,
   "autocomplete": true,
   "bibliofile": "biblio.bib",
   "cite_by": "apalike",
   "current_citInitial": 1,
   "eqLabelWithNumbers": true,
   "eqNumInitial": 0,
   "hotkeys": {
    "equation": "Ctrl-E",
    "itemize": "Ctrl-I"
   },
   "labels_anchors": false,
   "latex_user_defs": false,
   "report_style_numbering": false,
   "user_envs_cfg": false
  }
 },
 "nbformat": 4,
 "nbformat_minor": 2
}
